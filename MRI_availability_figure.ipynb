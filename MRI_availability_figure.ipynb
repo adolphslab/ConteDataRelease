{
 "cells": [
  {
   "cell_type": "markdown",
   "metadata": {},
   "source": [
    "## Conte Core release MRI availability figure\n",
    "\n",
    "- Extract number of repeats of structural and functional series by subject and session (protocol version)\n",
    "- Create availability matrices for sMRI and fMRI series and composite into a single, large figure\n",
    "\n",
    "AUTHOR : Mike Tyszka  \n",
    "PLACE  : Caltech Brain Imaging Center  \n",
    "DATES  : 2021-08-04 JMT From scratch  "
   ]
  },
  {
   "cell_type": "code",
   "execution_count": 1,
   "metadata": {
    "tags": []
   },
   "outputs": [],
   "source": [
    "import os\n",
    "import pandas as pd\n",
    "import numpy as np\n",
    "import seaborn as sns\n",
    "import matplotlib.pyplot as plt"
   ]
  },
  {
   "cell_type": "code",
   "execution_count": 2,
   "metadata": {},
   "outputs": [
    {
     "name": "stdout",
     "output_type": "stream",
     "text": [
      "Loaded MRI availability data for 117 unique subjects\n"
     ]
    }
   ],
   "source": [
    "# Load pickled MRI availability dataframe\n",
    "avail_df = pd.read_pickle('MRI_availability_dataframe.pkl')\n",
    "\n",
    "n_unique = len(avail_df['subject'].unique())\n",
    "print(f'Loaded MRI availability data for {n_unique} unique subjects')"
   ]
  },
  {
   "cell_type": "markdown",
   "metadata": {},
   "source": [
    "## Structural MRI Availability"
   ]
  },
  {
   "cell_type": "code",
   "execution_count": 3,
   "metadata": {},
   "outputs": [],
   "source": [
    "# Select anatomic images with criteria\n",
    "smri_df = avail_df[avail_df['datatype']=='anat'].copy()\n",
    "\n",
    "# Retain only bias corrected images ('NORM' in ImageType)\n",
    "smri_df = smri_df[smri_df['ImageType'].str.contains('NORM')]\n",
    "\n",
    "# Retain only MEMPRAGE combined images\n",
    "is_memprage = smri_df['SequenceName'].str.contains('tfl3d4_16ns')\n",
    "is_combined = smri_df['ImageType'].str.contains('COMBINED')\n",
    "smri_df = smri_df[~(is_memprage & ~is_combined)]"
   ]
  },
  {
   "cell_type": "markdown",
   "metadata": {},
   "source": [
    "### T1 and T2 Counts by Session"
   ]
  },
  {
   "cell_type": "code",
   "execution_count": 4,
   "metadata": {},
   "outputs": [
    {
     "data": {
      "text/html": [
       "<div>\n",
       "<style scoped>\n",
       "    .dataframe tbody tr th:only-of-type {\n",
       "        vertical-align: middle;\n",
       "    }\n",
       "\n",
       "    .dataframe tbody tr th {\n",
       "        vertical-align: top;\n",
       "    }\n",
       "\n",
       "    .dataframe thead th {\n",
       "        text-align: right;\n",
       "    }\n",
       "</style>\n",
       "<table border=\"1\" class=\"dataframe\">\n",
       "  <thead>\n",
       "    <tr style=\"text-align: right;\">\n",
       "      <th>session</th>\n",
       "      <th>core1p1</th>\n",
       "      <th>core1p2</th>\n",
       "      <th>core1p3p0</th>\n",
       "      <th>core1p3p1</th>\n",
       "      <th>core2p2</th>\n",
       "    </tr>\n",
       "    <tr>\n",
       "      <th>suffix</th>\n",
       "      <th></th>\n",
       "      <th></th>\n",
       "      <th></th>\n",
       "      <th></th>\n",
       "      <th></th>\n",
       "    </tr>\n",
       "  </thead>\n",
       "  <tbody>\n",
       "    <tr>\n",
       "      <th>T1w</th>\n",
       "      <td>68</td>\n",
       "      <td>90</td>\n",
       "      <td>18</td>\n",
       "      <td>14</td>\n",
       "      <td>59</td>\n",
       "    </tr>\n",
       "    <tr>\n",
       "      <th>T2w</th>\n",
       "      <td>0</td>\n",
       "      <td>0</td>\n",
       "      <td>9</td>\n",
       "      <td>6</td>\n",
       "      <td>58</td>\n",
       "    </tr>\n",
       "  </tbody>\n",
       "</table>\n",
       "</div>"
      ],
      "text/plain": [
       "session  core1p1  core1p2  core1p3p0  core1p3p1  core2p2\n",
       "suffix                                                  \n",
       "T1w           68       90         18         14       59\n",
       "T2w            0        0          9          6       58"
      ]
     },
     "execution_count": 4,
     "metadata": {},
     "output_type": "execute_result"
    }
   ],
   "source": [
    "# Count number of T1s and T2s for each session type\n",
    "smri_by_sess_df = smri_df[['subject', 'session', 'suffix']].groupby(['session', 'suffix']).count()\n",
    "\n",
    "# Put subjects in columns, (session, suffix) as row multiindex\n",
    "smri_by_sess_df = smri_by_sess_df.unstack(level=0, fill_value=0)\n",
    "\n",
    "# Drop the empty datatype level in the column multiindex\n",
    "smri_by_sess_df.columns = smri_by_sess_df.columns.droplevel()\n",
    "\n",
    "smri_by_sess_df"
   ]
  },
  {
   "cell_type": "markdown",
   "metadata": {},
   "source": [
    "### T1 and T2 Counts by Subject and Session"
   ]
  },
  {
   "cell_type": "code",
   "execution_count": 5,
   "metadata": {},
   "outputs": [],
   "source": [
    "# Count number of T1s and T2s for each subject/session\n",
    "# Use datatype as dummy column to generate counts\n",
    "smri_by_subjsess_df = smri_df[['subject', 'session', 'suffix', 'datatype']].groupby(['subject', 'suffix', 'session']).count()\n",
    "\n",
    "# Put subjects in columns, (session, suffix) as multiindex\n",
    "smri_by_subjsess_df = smri_by_subjsess_df.unstack(level=0, fill_value=0)\n",
    "\n",
    "# Drop the empty datatype level in the column multiindex\n",
    "smri_by_subjsess_df.columns = smri_by_subjsess_df.columns.droplevel()"
   ]
  },
  {
   "cell_type": "markdown",
   "metadata": {},
   "source": [
    "## Functional MRI Availability"
   ]
  },
  {
   "cell_type": "code",
   "execution_count": 6,
   "metadata": {},
   "outputs": [],
   "source": [
    "# Select fMRI with criteria\n",
    "fmri_df = avail_df[avail_df['datatype']=='func'].copy()\n",
    "\n",
    "# Count only BOLD EPI for rest, pixar and bang\n",
    "is_bold = fmri_df['suffix'].str.contains('bold')\n",
    "is_rest = fmri_df['task'].str.contains('rest')\n",
    "is_pixar = fmri_df['task'].str.contains('pixar')\n",
    "is_bang = fmri_df['task'].str.contains('bang')\n",
    "fmri_df = fmri_df[is_bold & (is_rest | is_pixar | is_bang)]"
   ]
  },
  {
   "cell_type": "markdown",
   "metadata": {},
   "source": [
    "### Task Counts by Session"
   ]
  },
  {
   "cell_type": "code",
   "execution_count": 7,
   "metadata": {},
   "outputs": [
    {
     "data": {
      "text/html": [
       "<div>\n",
       "<style scoped>\n",
       "    .dataframe tbody tr th:only-of-type {\n",
       "        vertical-align: middle;\n",
       "    }\n",
       "\n",
       "    .dataframe tbody tr th {\n",
       "        vertical-align: top;\n",
       "    }\n",
       "\n",
       "    .dataframe thead th {\n",
       "        text-align: right;\n",
       "    }\n",
       "</style>\n",
       "<table border=\"1\" class=\"dataframe\">\n",
       "  <thead>\n",
       "    <tr style=\"text-align: right;\">\n",
       "      <th>session</th>\n",
       "      <th>core1p1</th>\n",
       "      <th>core1p2</th>\n",
       "      <th>core1p3p0</th>\n",
       "      <th>core1p3p1</th>\n",
       "      <th>core2p2</th>\n",
       "    </tr>\n",
       "    <tr>\n",
       "      <th>suffix</th>\n",
       "      <th></th>\n",
       "      <th></th>\n",
       "      <th></th>\n",
       "      <th></th>\n",
       "      <th></th>\n",
       "    </tr>\n",
       "  </thead>\n",
       "  <tbody>\n",
       "    <tr>\n",
       "      <th>bold</th>\n",
       "      <td>68</td>\n",
       "      <td>89</td>\n",
       "      <td>18</td>\n",
       "      <td>14</td>\n",
       "      <td>231</td>\n",
       "    </tr>\n",
       "  </tbody>\n",
       "</table>\n",
       "</div>"
      ],
      "text/plain": [
       "session  core1p1  core1p2  core1p3p0  core1p3p1  core2p2\n",
       "suffix                                                  \n",
       "bold          68       89         18         14      231"
      ]
     },
     "execution_count": 7,
     "metadata": {},
     "output_type": "execute_result"
    }
   ],
   "source": [
    "# Count number of BOLD series for each session (protocol version)\n",
    "task_by_sess_df = fmri_df[['subject', 'session', 'suffix']].groupby(['session', 'suffix']).count()\n",
    "\n",
    "# Put subjects in columns, (session, suffix) as row multiindex\n",
    "task_by_sess_df = task_by_sess_df.unstack(level=0, fill_value=0)\n",
    "\n",
    "# Drop the empty datatype level in the column multiindex\n",
    "task_by_sess_df.columns = task_by_sess_df.columns.droplevel()\n",
    "\n",
    "task_by_sess_df"
   ]
  },
  {
   "cell_type": "markdown",
   "metadata": {
    "tags": []
   },
   "source": [
    "### Task Counts by Subject and Session"
   ]
  },
  {
   "cell_type": "code",
   "execution_count": 8,
   "metadata": {},
   "outputs": [],
   "source": [
    "# Count number of each task for each subject/session\n",
    "# Use datatype as dummy column to generate counts later\n",
    "task_by_subjsess_df = fmri_df[['subject', 'session', 'task', 'datatype']].groupby(['subject', 'task', 'session']).count()\n",
    "\n",
    "# Put subjects in columns, (task, session) as row multiindex\n",
    "task_by_subjsess_df = task_by_subjsess_df.unstack(level=0, fill_value=0)\n",
    "\n",
    "# Drop the empty datatype level in the column multiindex\n",
    "task_by_subjsess_df.columns = task_by_subjsess_df.columns.droplevel()"
   ]
  },
  {
   "cell_type": "markdown",
   "metadata": {},
   "source": [
    "## Availability Matrix Figures"
   ]
  },
  {
   "cell_type": "code",
   "execution_count": 9,
   "metadata": {},
   "outputs": [
    {
     "data": {
      "image/png": "[encoded data removed]",
      "text/plain": [
       "<Figure size 1440x576 with 2 Axes>"
      ]
     },
     "metadata": {
      "needs_background": "light"
     },
     "output_type": "display_data"
    }
   ],
   "source": [
    "# Create release MRI availability matrix subplots\n",
    "\n",
    "fig, axs = plt.subplots(2, 1, figsize=(20, 8), sharex=True)\n",
    "\n",
    "#\n",
    "# Structural series per subject\n",
    "#\n",
    "\n",
    "hmap = sns.heatmap(\n",
    "    smri_by_subjsess_df,\n",
    "    ax=axs[0],\n",
    "    vmin=0, vmax=3,\n",
    "    linewidths=2,\n",
    "    cmap=plt.get_cmap('GnBu', 3),\n",
    "    cbar=False\n",
    ")\n",
    "\n",
    "hmap.set_title('Number of sMRI runs per Subject', fontsize=20, pad=30)\n",
    "hmap.set_xlabel('')\n",
    "hmap.set_ylabel('Contrast-Session', fontsize=16, labelpad=20)\n",
    "hmap.xaxis.set_ticks([])\n",
    "hmap.set_yticklabels(hmap.get_ymajorticklabels(), fontsize = 16)\n",
    "\n",
    "#\n",
    "# fMRI task runs per subject and session\n",
    "#\n",
    "\n",
    "hmap = sns.heatmap(\n",
    "    task_by_subjsess_df,\n",
    "    ax=axs[1],\n",
    "    vmin=0, vmax=3,\n",
    "    linewidths=2,\n",
    "    cmap=plt.get_cmap('GnBu', 3),\n",
    "    cbar=False\n",
    ")\n",
    "\n",
    "hmap.set_title('Number of fMRI Task Runs per Subject and Session', fontsize=20, pad=30)\n",
    "hmap.set_xlabel('Subject', fontsize=18, labelpad=20)\n",
    "hmap.set_ylabel('Task-Session', fontsize=18, labelpad=20)\n",
    "hmap.set_xticklabels(hmap.get_xmajorticklabels(), fontsize = 12)\n",
    "hmap.set_yticklabels(hmap.get_ymajorticklabels(), fontsize = 16)\n",
    "\n",
    "# Increase vertical spacing between subplots\n",
    "plt.subplots_adjust(left=0.1,\n",
    "                    bottom=0.1, \n",
    "                    right=0.9, \n",
    "                    top=0.9, \n",
    "                    wspace=0.4, \n",
    "                    hspace=0.6)\n",
    "\n",
    "# Save complete figure to PNG\n",
    "plt.savefig('MRI_availability_figure.png', dpi=300, bbox_inches = 'tight')"
   ]
  }
 ],
 "metadata": {
  "kernelspec": {
   "display_name": "Python 3 (ipykernel)",
   "language": "python",
   "name": "python3"
  },
  "language_info": {
   "codemirror_mode": {
    "name": "ipython",
    "version": 3
   },
   "file_extension": ".py",
   "mimetype": "text/x-python",
   "name": "python",
   "nbconvert_exporter": "python",
   "pygments_lexer": "ipython3",
   "version": "3.8.10"
  }
 },
 "nbformat": 4,
 "nbformat_minor": 4
}
